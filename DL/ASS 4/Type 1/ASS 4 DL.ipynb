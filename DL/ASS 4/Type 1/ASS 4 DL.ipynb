{
 "cells": [
  {
   "cell_type": "code",
   "execution_count": 1,
   "id": "697cb2e8",
   "metadata": {},
   "outputs": [],
   "source": [
    "#rnn is used for speech recognition\n",
    "import numpy as np\n",
    "import pandas as pd\n",
    "import matplotlib.pyplot as plt"
   ]
  },
  {
   "cell_type": "code",
   "execution_count": null,
   "id": "4d87caef",
   "metadata": {},
   "outputs": [],
   "source": [
    "training_set=pd.read_csv('Google_Stock_Price_Train.csv',thousands=',')\n",
    "training_set"
   ]
  },
  {
   "cell_type": "code",
   "execution_count": null,
   "id": "92c4231d",
   "metadata": {},
   "outputs": [],
   "source": [
    "training_set.info()"
   ]
  },
  {
   "cell_type": "code",
   "execution_count": null,
   "id": "07a53e36",
   "metadata": {},
   "outputs": [],
   "source": [
    "import matplotlib.pyplot as plt\n",
    "plt.figure(figsize=(5, 5))\n",
    "plt.subplots_adjust(top=1.25, bottom=1.2)\n",
    "training_set['Close'].plot()\n",
    "plt.ylabel('Adj Close')\n",
    "plt.xlabel(None)\n",
    "plt.title(f\"Closing Price of Google\")\n",
    "plt.tight_layout()"
   ]
  },
  {
   "cell_type": "code",
   "execution_count": null,
   "id": "08c0a548",
   "metadata": {},
   "outputs": [],
   "source": [
    "training_set['Volume'] = pd.to_numeric(training_set['Volume'])\n",
    "plt.figure(figsize=(15, 20))\n",
    "plt.subplots_adjust(top=1.25, bottom=1.2)\n",
    "training_set['Volume'].plot()\n",
    "plt.ylabel('Volume')\n",
    "plt.xlabel(None)\n",
    "plt.title(f\"Sales Volume\")"
   ]
  },
  {
   "cell_type": "code",
   "execution_count": null,
   "id": "9981a1f2",
   "metadata": {},
   "outputs": [],
   "source": [
    "training_set=training_set.iloc[:,1:2].values"
   ]
  },
  {
   "cell_type": "code",
   "execution_count": null,
   "id": "09e2f3bb",
   "metadata": {},
   "outputs": [],
   "source": [
    "from sklearn.preprocessing import MinMaxScaler\n",
    "sc= MinMaxScaler()\n",
    "training_set=sc.fit_transform(training_set)\n",
    "\n",
    "X_train= training_set[0:1257]\n",
    "y_train= training_set[1:1258]\n",
    "\n",
    "X_train=np.reshape(X_train, (1257 , 1 , 1))"
   ]
  },
  {
   "cell_type": "code",
   "execution_count": null,
   "id": "5bc25254",
   "metadata": {},
   "outputs": [],
   "source": [
    "from keras.models import Sequential\n",
    "from keras.layers import Dense\n",
    "from keras.layers import LSTM"
   ]
  },
  {
   "cell_type": "code",
   "execution_count": null,
   "id": "ef4930ad",
   "metadata": {},
   "outputs": [],
   "source": [
    "#The challenge of long-term dependencies is a well-known issue in recurrent neural networks (RNNs) \n",
    "#and has been a subject of research and improvement over the years. \n",
    "#RNNs are designed to process sequential data by using hidden states that propagate information from one step to the next. \n",
    "#However, when the dependency between relevant information becomes too distant, \n",
    "#RNNs often struggle to effectively capture and utilize that information.\n",
    "\n",
    "#The problem arises due to the vanishing or exploding gradient problem, which affects the training of RNNs. \n",
    "#As the network tries to propagate gradients backward through time, the gradients can diminish exponentially or grow uncontrollably. \n",
    "#This issue makes it difficult for the RNN to learn and remember long-term dependencies.\n",
    "\n",
    "#To address this challenge different techniques are there:\n",
    "#Gated Recurrent Units (GRUs) and Long Short-Term Memory (LSTM)\n",
    "#Residual Connections\n",
    "#Attention Mechanisms\n",
    "#Transformer Architecture\n",
    "regressor = Sequential()\n",
    "\n",
    "regressor.add(LSTM(units=4, activation= 'sigmoid', input_shape= (None,1)))\n",
    "\n",
    "regressor.add(Dense( units=1 ))\n",
    "\n",
    "regressor.compile(optimizer='adam', loss='mean_squared_error')\n",
    "regressor.fit(X_train, y_train, batch_size=32, epochs=200)"
   ]
  },
  {
   "cell_type": "code",
   "execution_count": null,
   "id": "fc8e770e",
   "metadata": {},
   "outputs": [],
   "source": [
    "test_set = pd.read_csv('Google_Stock_Price_Test.csv')\n",
    "real_stock_price = test_set.iloc[:,1:2].values\n",
    "\n",
    "inputs = real_stock_price\n",
    "inputs = sc.transform(inputs)\n",
    "inputs = np.reshape(inputs, (20 , 1, 1))\n",
    "predicted_stock_price = regressor.predict(inputs)\n",
    "predicted_stock_price = sc.inverse_transform(predicted_stock_price)"
   ]
  },
  {
   "cell_type": "code",
   "execution_count": null,
   "id": "f8af78b8",
   "metadata": {},
   "outputs": [],
   "source": [
    "plt.plot( real_stock_price , color = 'red' , label = 'Real Google Stock Price')\n",
    "plt.plot( predicted_stock_price , color = 'blue' , label = 'Predicted Google Stock Price')\n",
    "plt.title('Google Stock Price Prediction')\n",
    "plt.xlabel( 'time' )\n",
    "plt.ylabel( 'Google Stock Price' )\n",
    "plt.legend()\n",
    "plt.show()"
   ]
  },
  {
   "cell_type": "code",
   "execution_count": null,
   "id": "4a5039e5",
   "metadata": {},
   "outputs": [],
   "source": []
  },
  {
   "cell_type": "code",
   "execution_count": null,
   "id": "a37e3ae6",
   "metadata": {},
   "outputs": [],
   "source": []
  },
  {
   "cell_type": "code",
   "execution_count": null,
   "id": "53de1a0c",
   "metadata": {},
   "outputs": [],
   "source": []
  },
  {
   "cell_type": "code",
   "execution_count": null,
   "id": "64af07ed",
   "metadata": {},
   "outputs": [],
   "source": []
  },
  {
   "cell_type": "code",
   "execution_count": null,
   "id": "41c9dfbf",
   "metadata": {},
   "outputs": [],
   "source": []
  },
  {
   "cell_type": "code",
   "execution_count": null,
   "id": "baaa5acd",
   "metadata": {},
   "outputs": [],
   "source": []
  },
  {
   "cell_type": "code",
   "execution_count": null,
   "id": "41126e90",
   "metadata": {},
   "outputs": [],
   "source": []
  },
  {
   "cell_type": "code",
   "execution_count": null,
   "id": "370e4a1b",
   "metadata": {},
   "outputs": [],
   "source": []
  },
  {
   "cell_type": "code",
   "execution_count": null,
   "id": "4ea3292a",
   "metadata": {},
   "outputs": [],
   "source": []
  },
  {
   "cell_type": "code",
   "execution_count": null,
   "id": "b9a89278",
   "metadata": {},
   "outputs": [],
   "source": []
  },
  {
   "cell_type": "code",
   "execution_count": null,
   "id": "2d109023",
   "metadata": {},
   "outputs": [],
   "source": []
  },
  {
   "cell_type": "code",
   "execution_count": null,
   "id": "dce95578",
   "metadata": {},
   "outputs": [],
   "source": []
  },
  {
   "cell_type": "code",
   "execution_count": null,
   "id": "8d204a6a",
   "metadata": {},
   "outputs": [],
   "source": []
  },
  {
   "cell_type": "code",
   "execution_count": null,
   "id": "012659c0",
   "metadata": {},
   "outputs": [],
   "source": []
  },
  {
   "cell_type": "code",
   "execution_count": null,
   "id": "c5f1bd2d",
   "metadata": {},
   "outputs": [],
   "source": []
  },
  {
   "cell_type": "code",
   "execution_count": null,
   "id": "de7d3fe8",
   "metadata": {},
   "outputs": [],
   "source": []
  },
  {
   "cell_type": "code",
   "execution_count": null,
   "id": "75501e5b",
   "metadata": {},
   "outputs": [],
   "source": []
  },
  {
   "cell_type": "code",
   "execution_count": null,
   "id": "ea5f48cd",
   "metadata": {},
   "outputs": [],
   "source": []
  },
  {
   "cell_type": "code",
   "execution_count": null,
   "id": "f28e3cb7",
   "metadata": {},
   "outputs": [],
   "source": []
  },
  {
   "cell_type": "code",
   "execution_count": null,
   "id": "7ca9ba19",
   "metadata": {},
   "outputs": [],
   "source": []
  },
  {
   "cell_type": "code",
   "execution_count": null,
   "id": "c4dba7f0",
   "metadata": {},
   "outputs": [],
   "source": []
  },
  {
   "cell_type": "code",
   "execution_count": null,
   "id": "fa4032a3",
   "metadata": {},
   "outputs": [],
   "source": []
  }
 ],
 "metadata": {
  "kernelspec": {
   "display_name": "Python 3 (ipykernel)",
   "language": "python",
   "name": "python3"
  },
  "language_info": {
   "codemirror_mode": {
    "name": "ipython",
    "version": 3
   },
   "file_extension": ".py",
   "mimetype": "text/x-python",
   "name": "python",
   "nbconvert_exporter": "python",
   "pygments_lexer": "ipython3",
   "version": "3.9.7"
  }
 },
 "nbformat": 4,
 "nbformat_minor": 5
}
